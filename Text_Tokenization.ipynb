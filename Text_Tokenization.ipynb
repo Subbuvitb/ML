{
  "nbformat": 4,
  "nbformat_minor": 0,
  "metadata": {
    "colab": {
      "name": "Text Tokenization.ipynb",
      "provenance": [],
      "authorship_tag": "ABX9TyN2kRTSxZ9B/hbynS/w7Fnu",
      "include_colab_link": true
    },
    "kernelspec": {
      "name": "python3",
      "display_name": "Python 3"
    },
    "language_info": {
      "name": "python"
    }
  },
  "cells": [
    {
      "cell_type": "markdown",
      "metadata": {
        "id": "view-in-github",
        "colab_type": "text"
      },
      "source": [
        "<a href=\"https://colab.research.google.com/github/Subbuvitb/ML/blob/main/Text_Tokenization.ipynb\" target=\"_parent\"><img src=\"https://colab.research.google.com/assets/colab-badge.svg\" alt=\"Open In Colab\"/></a>"
      ]
    },
    {
      "cell_type": "markdown",
      "source": [
        "Text Tokenization using split() method"
      ],
      "metadata": {
        "id": "zLFwYo2Bmego"
      }
    },
    {
      "cell_type": "code",
      "source": [
        "#words\n",
        "text = \" i am the king of this world. no one can stand behind me. i am the devil. \"\n",
        "tokens = text.split()\n",
        "print(tokens)\n",
        "print(\"no of tokens :\", len(tokens))"
      ],
      "metadata": {
        "colab": {
          "base_uri": "https://localhost:8080/"
        },
        "id": "16gP1ISAmf-k",
        "outputId": "d72c9751-151a-425f-a107-e6aa59582b0e"
      },
      "execution_count": 15,
      "outputs": [
        {
          "output_type": "stream",
          "name": "stdout",
          "text": [
            "['i', 'am', 'the', 'king', 'of', 'this', 'world.', 'no', 'one', 'can', 'stand', 'behind', 'me.', 'i', 'am', 'the', 'devil.']\n",
            "no of tokens : 17\n"
          ]
        }
      ]
    },
    {
      "cell_type": "code",
      "source": [
        "#sentence\n",
        "sentence = text.split('.')\n",
        "print(sentence)\n",
        "print('no of sentence :', len(sentence))\n"
      ],
      "metadata": {
        "colab": {
          "base_uri": "https://localhost:8080/"
        },
        "id": "ek-hdRvsnbJ6",
        "outputId": "d045a5e4-c55c-49d4-a66f-d6a93f20b056"
      },
      "execution_count": 16,
      "outputs": [
        {
          "output_type": "stream",
          "name": "stdout",
          "text": [
            "[' i am the king of this world', ' no one can stand behind me', ' i am the devil', ' ']\n",
            "no of sentence : 4\n"
          ]
        }
      ]
    },
    {
      "cell_type": "markdown",
      "source": [
        "Text Tokenization using regular expressions(RegExp)"
      ],
      "metadata": {
        "id": "G6BNImGIoNI_"
      }
    },
    {
      "cell_type": "code",
      "source": [
        "import re"
      ],
      "metadata": {
        "id": "-6UA46ZBol9U"
      },
      "execution_count": 17,
      "outputs": []
    },
    {
      "cell_type": "code",
      "source": [
        "#word\n",
        "tokens = re.findall(\"[\\w'] +\",text)\n",
        "print(tokens)\n",
        "print(\"no of tokens : \", len(tokens))"
      ],
      "metadata": {
        "colab": {
          "base_uri": "https://localhost:8080/"
        },
        "id": "8BAp_AeWovQD",
        "outputId": "880c6e90-87b9-4ca7-bb7f-35c2f318b2e9"
      },
      "execution_count": 20,
      "outputs": [
        {
          "output_type": "stream",
          "name": "stdout",
          "text": [
            "['i ', 'm ', 'e ', 'g ', 'f ', 's ', 'o ', 'e ', 'n ', 'd ', 'd ', 'i ', 'm ', 'e ']\n",
            "no of tokens :  14\n"
          ]
        }
      ]
    },
    {
      "cell_type": "code",
      "source": [
        "#sentence\n",
        "sentence = re.compile(\"[.?!]\").split(text)\n",
        "print(sentence)\n",
        "print('no of sentences :', len(sentence))"
      ],
      "metadata": {
        "colab": {
          "base_uri": "https://localhost:8080/"
        },
        "id": "uvQxPlZspx1x",
        "outputId": "57660012-f90d-46bb-9f8b-b2ee1855ff34"
      },
      "execution_count": 21,
      "outputs": [
        {
          "output_type": "stream",
          "name": "stdout",
          "text": [
            "[' i am the king of this world', ' no one can stand behind me', ' i am the devil', ' ']\n",
            "no of sentences : 4\n"
          ]
        }
      ]
    },
    {
      "cell_type": "markdown",
      "source": [
        "Text Tokenization using NLTK"
      ],
      "metadata": {
        "id": "64ujVz_Wqu2e"
      }
    },
    {
      "cell_type": "code",
      "source": [
        "import nltk\n",
        "nltk.download('punkt')\n"
      ],
      "metadata": {
        "colab": {
          "base_uri": "https://localhost:8080/"
        },
        "id": "ZmxDVL3Ls48G",
        "outputId": "6a0f1ec0-45cb-45e3-cd48-77f56130f1ef"
      },
      "execution_count": 22,
      "outputs": [
        {
          "output_type": "stream",
          "name": "stderr",
          "text": [
            "[nltk_data] Downloading package punkt to /root/nltk_data...\n",
            "[nltk_data]   Unzipping tokenizers/punkt.zip.\n"
          ]
        },
        {
          "output_type": "execute_result",
          "data": {
            "text/plain": [
              "True"
            ]
          },
          "metadata": {},
          "execution_count": 22
        }
      ]
    },
    {
      "cell_type": "code",
      "source": [
        "#word\n",
        "from nltk.tokenize import word_tokenize\n",
        "tokens = word_tokenize(text)\n",
        "print(tokens)\n",
        "print(\"no of tokens :\", len(tokens)) "
      ],
      "metadata": {
        "colab": {
          "base_uri": "https://localhost:8080/"
        },
        "id": "QI6fqW9AtHMX",
        "outputId": "4001e474-6950-4450-e9c5-3854a2367d27"
      },
      "execution_count": 25,
      "outputs": [
        {
          "output_type": "stream",
          "name": "stdout",
          "text": [
            "['i', 'am', 'the', 'king', 'of', 'this', 'world', '.', 'no', 'one', 'can', 'stand', 'behind', 'me', '.', 'i', 'am', 'the', 'devil', '.']\n",
            "no of tokens : 20\n"
          ]
        }
      ]
    },
    {
      "cell_type": "code",
      "source": [
        "#sentence\n",
        "from nltk.tokenize import sent_tokenize\n",
        "sentence = sent_tokenize(text)\n",
        "print(sentence)\n",
        "print(\"no of sentence :\" ,len(sentence))"
      ],
      "metadata": {
        "colab": {
          "base_uri": "https://localhost:8080/"
        },
        "id": "0B2Asd98t701",
        "outputId": "611962c9-e4b5-4f23-956b-205d81b850d7"
      },
      "execution_count": 27,
      "outputs": [
        {
          "output_type": "stream",
          "name": "stdout",
          "text": [
            "[' i am the king of this world.', 'no one can stand behind me.', 'i am the devil.']\n",
            "no of sentence : 3\n"
          ]
        }
      ]
    }
  ]
}