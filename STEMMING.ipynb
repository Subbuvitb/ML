{
  "nbformat": 4,
  "nbformat_minor": 0,
  "metadata": {
    "colab": {
      "name": "STEMMING.ipynb",
      "provenance": [],
      "authorship_tag": "ABX9TyMVvh8Acd57SJ5T7B39443w",
      "include_colab_link": true
    },
    "kernelspec": {
      "name": "python3",
      "display_name": "Python 3"
    },
    "language_info": {
      "name": "python"
    }
  },
  "cells": [
    {
      "cell_type": "markdown",
      "metadata": {
        "id": "view-in-github",
        "colab_type": "text"
      },
      "source": [
        "<a href=\"https://colab.research.google.com/github/Subbuvitb/ML/blob/main/STEMMING.ipynb\" target=\"_parent\"><img src=\"https://colab.research.google.com/assets/colab-badge.svg\" alt=\"Open In Colab\"/></a>"
      ]
    },
    {
      "cell_type": "code",
      "execution_count": 5,
      "metadata": {
        "colab": {
          "base_uri": "https://localhost:8080/"
        },
        "id": "Qg0gd5i_BPHt",
        "outputId": "3a721dcf-47bf-47c9-bffe-0ea78267225e"
      },
      "outputs": [
        {
          "output_type": "stream",
          "name": "stdout",
          "text": [
            "['Pythoners', 'are', 'very', 'intelligent', 'and', 'work', 'very', 'pythonly', 'and', 'now', 'they', 'are', 'pythoning', 'their', 'way', 'to', 'success', '.']\n",
            "sentence after stemming : python are veri intellig and work veri pythonli and now they are python their way to success .\n"
          ]
        },
        {
          "output_type": "stream",
          "name": "stderr",
          "text": [
            "[nltk_data] Downloading package punkt to /root/nltk_data...\n",
            "[nltk_data]   Package punkt is already up-to-date!\n"
          ]
        }
      ],
      "source": [
        "import nltk\n",
        "\n",
        "nltk.download(\"punkt\")\n",
        "\n",
        "from nltk import PorterStemmer\n",
        "from nltk import word_tokenize\n",
        "\n",
        "porter = PorterStemmer()\n",
        "\n",
        "sentence = \"Pythoners are very intelligent and work very pythonly and now they are pythoning their way to success.\" \n",
        "def stemsentence(sentence):\n",
        "  word_tokens = word_tokenize(sentence)\n",
        "  print(word_tokens)\n",
        "  stem_sentence=[]\n",
        "  for word in word_tokens:\n",
        "    stem_sentence.append(porter.stem(word))\n",
        "  return \" \".join(stem_sentence)\n",
        "print(\"sentence after stemming :\",stemsentence(sentence))\n",
        "\n"
      ]
    }
  ]
}