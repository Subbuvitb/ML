{
  "nbformat": 4,
  "nbformat_minor": 0,
  "metadata": {
    "colab": {
      "name": "stopwords.ipynb",
      "provenance": [],
      "collapsed_sections": [],
      "authorship_tag": "ABX9TyM3v2h9sYEmWENxEL3bq7zt",
      "include_colab_link": true
    },
    "kernelspec": {
      "name": "python3",
      "display_name": "Python 3"
    },
    "language_info": {
      "name": "python"
    }
  },
  "cells": [
    {
      "cell_type": "markdown",
      "metadata": {
        "id": "view-in-github",
        "colab_type": "text"
      },
      "source": [
        "<a href=\"https://colab.research.google.com/github/Subbuvitb/ML/blob/main/stopwords.ipynb\" target=\"_parent\"><img src=\"https://colab.research.google.com/assets/colab-badge.svg\" alt=\"Open In Colab\"/></a>"
      ]
    },
    {
      "cell_type": "markdown",
      "source": [
        "Stopwords\n"
      ],
      "metadata": {
        "id": "rLxiP5g36y6G"
      }
    },
    {
      "cell_type": "code",
      "source": [
        "import nltk \n",
        "\n",
        "nltk.download('stopwords')\n",
        "nltk.download('punkt')\n",
        "\n",
        "from nltk.corpus import stopwords\n",
        "from nltk.tokenize import word_tokenize  \n",
        "\n",
        "stopwords = stopwords.words('english') \n",
        "\n",
        "example_sent = \"\"\"We are learning Natural Language Processing as part of\n",
        "                Fundamentals of Machine Learning in our second year B.Tech.\"\"\" \n",
        "    \n",
        "word_tokens = word_tokenize(example_sent)\n",
        "\n",
        "filtered_sentence = [] \n",
        "\n",
        "for i in word_tokens:\n",
        "    \n",
        "    if i not in stopwords:\n",
        "       \n",
        "       filtered_sentence.append(i)\n",
        "\n",
        "print(word_tokens)\n",
        "print(filtered_sentence)"
      ],
      "metadata": {
        "colab": {
          "base_uri": "https://localhost:8080/"
        },
        "id": "c52uEoA07T5e",
        "outputId": "de48c73b-cdfd-4ced-b458-1a9717cc55d2"
      },
      "execution_count": 1,
      "outputs": [
        {
          "output_type": "stream",
          "name": "stderr",
          "text": [
            "[nltk_data] Downloading package stopwords to /root/nltk_data...\n",
            "[nltk_data]   Unzipping corpora/stopwords.zip.\n",
            "[nltk_data] Downloading package punkt to /root/nltk_data...\n",
            "[nltk_data]   Unzipping tokenizers/punkt.zip.\n"
          ]
        },
        {
          "output_type": "stream",
          "name": "stdout",
          "text": [
            "['We', 'are', 'learning', 'Natural', 'Language', 'Processing', 'as', 'part', 'of', 'Fundamentals', 'of', 'Machine', 'Learning', 'in', 'our', 'second', 'year', 'B.Tech', '.']\n",
            "['We', 'learning', 'Natural', 'Language', 'Processing', 'part', 'Fundamentals', 'Machine', 'Learning', 'second', 'year', 'B.Tech', '.']\n"
          ]
        }
      ]
    }
  ]
}